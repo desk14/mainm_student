{
 "cells": [
  {
   "cell_type": "code",
   "execution_count": 1,
   "id": "c594f61b-4eee-4c7a-8afe-74860c2352d7",
   "metadata": {
    "scrolled": true
   },
   "outputs": [
    {
     "data": {
      "text/html": [
       "<pre style=\"white-space:pre;overflow-x:auto;line-height:normal;font-family:Menlo,'DejaVu Sans Mono',consolas,'Courier New',monospace\">Manim Community <span style=\"color: #008000; text-decoration-color: #008000\">v0.17.2</span>\n",
       "\n",
       "</pre>\n"
      ],
      "text/plain": [
       "Manim Community \u001b[32mv0.\u001b[0m\u001b[32m17.2\u001b[0m\n",
       "\n"
      ]
     },
     "metadata": {},
     "output_type": "display_data"
    }
   ],
   "source": [
    "from manim import*\n",
    "\n",
    "config.media_width = \"75%\""
   ]
  },
  {
   "cell_type": "code",
   "execution_count": null,
   "id": "2624ce36",
   "metadata": {},
   "outputs": [],
   "source": [
    "%%manim -qm -v WARNING EX1\n",
    "\n",
    "class EX(Scene):\n",
    "\n",
    "    def construct(self):"
   ]
  },
  {
   "cell_type": "code",
   "execution_count": null,
   "id": "3b20f8de",
   "metadata": {},
   "outputs": [],
   "source": [
    "%%manim -qm -v WARNING EX2\n",
    "\n",
    "class EX2(Scene):\n",
    "\n",
    "    def construct(self):\n",
    "        \n",
    "        plane = ComplexPlane(axis_config=  {\"unit_size\": 2}).add_coordinates()\n",
    "        v1 = Vector(2 * RIGHT).set_color(BLUE)\n",
    "        v2 = Vector(2 * RIGHT).set_color(interpolate_color(GREY_BROWN, WHITE, 0.5))\n",
    "        circle = Circle(color=GREY_BROWN).set_width(2 * v1.get_length())\n",
    "        \n",
    "        t = ValueTracker(0)\n",
    "        t.add_updater(lambda t, dt: t.increment_value(dt))\n",
    "\n",
    "        v1.add_updater(lambda v: v.set_angle(t.get_value()))\n",
    "        v2.add_updater(lambda v: v.set_angle(-t.get_value()))\n",
    "        \n",
    "        \n",
    "        gv1 = v1.copy().set_opacity(0.5)\n",
    "        gv2 = v2.copy().set_opacity(0.5)\n",
    "        gv1.add_updater(lambda v: v.shift(v2.get_end()- v.get_start()))\n",
    "        gv2.add_updater(lambda v: v.shift(v1.get_end()- v.get_start()))\n",
    "        \n",
    "        def vec():\n",
    "         ve = Vector(v1.get_start() + gv1.get_end()).set_color(RED)\n",
    "         return ve\n",
    "\n",
    "        veth = always_redraw(vec)\n",
    "\n",
    "        \n",
    "        te1 = Tex(\"Complex plane\").scale(1.3).to_edge(UR)\n",
    "        \n",
    "        te2 = MathTex(\"2\\\\cos(x) =\",  \"e^{ix}\", \"+\", \"e^{-ix}\", \n",
    "                     tex_to_color_map={\n",
    "                               \"e^{ix}\": v1.get_color(),\n",
    "                               \"e^{-ix}\": v2.get_color(),\n",
    "                               \"2\\\\cos(x) =\" : vec().get_color(),\n",
    "                                  })\n",
    "         \n",
    "        te2.next_to(ORIGIN, 3*UP+2*LEFT, buff=0.75)\n",
    " \n",
    "        self.add(t, plane)\n",
    "        self.play(FadeIn(te1))\n",
    "        self.play(FadeIn(te2))\n",
    "        self.play(FadeIn(circle))\n",
    "        self.play(FadeIn(v1), FadeIn(v2))\n",
    "        self.wait(1)\n",
    "        self.play(FadeIn(gv1), FadeIn(gv2))\n",
    "        self.wait(2)\n",
    "        self.add(veth)\n",
    "        self.wait(10)\n"
   ]
  }
 ],
 "metadata": {
  "kernelspec": {
   "display_name": "mac",
   "language": "python",
   "name": "python3"
  },
  "language_info": {
   "codemirror_mode": {
    "name": "ipython",
    "version": 3
   },
   "file_extension": ".py",
   "mimetype": "text/x-python",
   "name": "python",
   "nbconvert_exporter": "python",
   "pygments_lexer": "ipython3",
   "version": "3.10.9"
  }
 },
 "nbformat": 4,
 "nbformat_minor": 5
}
